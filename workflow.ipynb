{
 "cells": [
  {
   "cell_type": "markdown",
   "metadata": {},
   "source": [
    "# 1. Getting everything ready\n",
    "\n",
    "<p>**MEvoLib** can be installed in different ways. The recommended option is to install [Anaconda](https://www.anaconda.com/download/) for Python 3. Once it has been installed, run the following command (remove *%system* if copied into a terminal):</p>"
   ]
  },
  {
   "cell_type": "code",
   "execution_count": null,
   "metadata": {},
   "outputs": [],
   "source": [
    "%system conda install -c bioconda biopython dendropy"
   ]
  },
  {
   "cell_type": "markdown",
   "metadata": {},
   "source": [
    "<p>Alternatively, if you have installed Python and [pip](https://packaging.python.org/key_projects/#pip), you can run the following command to install every library required (remove *%system* if copied into a terminal):</p>"
   ]
  },
  {
   "cell_type": "code",
   "execution_count": null,
   "metadata": {},
   "outputs": [],
   "source": [
    "%system pip install --user numpy biopython dendropy"
   ]
  },
  {
   "cell_type": "markdown",
   "metadata": {},
   "source": [
    "<p>Finally, download the latest release of [MEvoLib](https://github.com/JAlvarezJarreta/MEvoLib/releases), extract it and install it running the following command (remove *%system* if copied into a terminal):</p>"
   ]
  },
  {
   "cell_type": "code",
   "execution_count": null,
   "metadata": {},
   "outputs": [],
   "source": [
    "%system python setup.py install --user"
   ]
  },
  {
   "cell_type": "markdown",
   "metadata": {},
   "source": [
    "<p>You can remove the *--user* part to install the libraries for every user in the machine if you have superuser/administrator/root access.</p>\n",
    "<p>To ensure **MEvoLib** has been installed successfully, we can try importing the library and printing its version:</p>"
   ]
  },
  {
   "cell_type": "code",
   "execution_count": null,
   "metadata": {},
   "outputs": [],
   "source": [
    "import MEvoLib\n",
    "print(MEvoLib.__version__)"
   ]
  },
  {
   "cell_type": "markdown",
   "metadata": {},
   "source": [
    "# 2. Download GenBank mtDNA sequences\n",
    "\n"
   ]
  },
  {
   "cell_type": "code",
   "execution_count": null,
   "metadata": {},
   "outputs": [],
   "source": []
  }
 ],
 "metadata": {
  "kernelspec": {
   "display_name": "Python 3",
   "language": "python",
   "name": "python3"
  },
  "language_info": {
   "codemirror_mode": {
    "name": "ipython",
    "version": 3
   },
   "file_extension": ".py",
   "mimetype": "text/x-python",
   "name": "python",
   "nbconvert_exporter": "python",
   "pygments_lexer": "ipython3",
   "version": "3.5.3"
  }
 },
 "nbformat": 4,
 "nbformat_minor": 2
}
