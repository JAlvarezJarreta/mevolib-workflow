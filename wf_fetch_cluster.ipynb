{
 "cells": [
  {
   "cell_type": "markdown",
   "metadata": {},
   "source": [
    "# ADD STAGES TO THE WORKFLOW"
   ]
  },
  {
   "cell_type": "markdown",
   "metadata": {},
   "source": [
    "### 1) Add the fetching stage to the workflow\n",
    "This first stage of the workflow aims to fetch all the reference mtDNA sequences (RefSeq) in GenBank for the tick genus Ixodes"
   ]
  },
  {
   "cell_type": "code",
   "execution_count": 1,
   "metadata": {},
   "outputs": [],
   "source": [
    "from mevolib.fetch.BioSeqs import BioSeqs"
   ]
  },
  {
   "cell_type": "code",
   "execution_count": 2,
   "metadata": {},
   "outputs": [],
   "source": [
    "seq_db = BioSeqs.from_entrez(email=\"ex@ucm.es\", entrez_db=\"nuccore\",\n",
    "                            query='(\"Ixodes\"[Organism] OR ixodes[All Fields]) AND (biomol_genomic[PROP] AND refseq[filter])', \n",
    "                             max_fetch=10)"
   ]
  },
  {
   "cell_type": "markdown",
   "metadata": {},
   "source": [
    "We analyse the sequences downloaded to get basic stats using the statistics function. It returns the total number of sequences stored and the arithmetic mean of the array elements of the sequences, standard deviation of the length of the sequences, minimum and maximum values of their length."
   ]
  },
  {
   "cell_type": "code",
   "execution_count": 3,
   "metadata": {},
   "outputs": [
    {
     "data": {
      "text/plain": [
       "(10, 157322.2, 427346.9785742729, 1085, 1438973)"
      ]
     },
     "execution_count": 3,
     "metadata": {},
     "output_type": "execute_result"
    }
   ],
   "source": [
    "seq_db.statistics()"
   ]
  },
  {
   "cell_type": "markdown",
   "metadata": {},
   "source": [
    "Finally, all the information can be saved in a file with the SeqRecord objects in a GENBANK format"
   ]
  },
  {
   "cell_type": "code",
   "execution_count": 4,
   "metadata": {},
   "outputs": [],
   "source": [
    "seq_db.write('mtDNA_Ixodes.gb')"
   ]
  },
  {
   "cell_type": "markdown",
   "metadata": {},
   "source": [
    "### 2) Add the clustering stage to the workflow\n",
    "This second stage of the workflow aims to divide the sequences into genes (some genes are highly conserved within the same genus and can be used to find those sequences of dubious quality). "
   ]
  },
  {
   "cell_type": "code",
   "execution_count": 1,
   "metadata": {},
   "outputs": [],
   "source": [
    "from mevolib import cluster"
   ]
  },
  {
   "cell_type": "code",
   "execution_count": 2,
   "metadata": {},
   "outputs": [],
   "source": [
    "gene_dict = cluster.get_subsets('genes','ixodes.gb','gb', None, None, None, 'ixodes.log')"
   ]
  }
 ],
 "metadata": {
  "kernelspec": {
   "display_name": "mtdna",
   "language": "python",
   "name": "mtdna"
  },
  "language_info": {
   "codemirror_mode": {
    "name": "ipython",
    "version": 3
   },
   "file_extension": ".py",
   "mimetype": "text/x-python",
   "name": "python",
   "nbconvert_exporter": "python",
   "pygments_lexer": "ipython3",
   "version": "3.10.6"
  }
 },
 "nbformat": 4,
 "nbformat_minor": 4
}
